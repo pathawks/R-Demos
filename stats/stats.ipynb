{
 "cells": [
  {
   "cell_type": "markdown",
   "metadata": {},
   "source": [
    "Copyright (C) 1997-2009 The R Core Team"
   ]
  },
  {
   "cell_type": "code",
   "execution_count": 1,
   "metadata": {
    "collapsed": true
   },
   "outputs": [],
   "source": [
    "#### -*- R -*-\n",
    "require(stats)"
   ]
  },
  {
   "cell_type": "code",
   "execution_count": 10,
   "metadata": {},
   "outputs": [
    {
     "data": {
      "text/plain": [
       "\n",
       "Call:\n",
       "glm(formula = Fr ~ M.user * Temp * Soft + Brand, family = poisson, \n",
       "    data = detg)\n",
       "\n",
       "Deviance Residuals: \n",
       "     Min        1Q    Median        3Q       Max  \n",
       "-2.20876  -0.99190  -0.00126   0.93542   1.97601  \n",
       "\n",
       "Coefficients:\n",
       "                            Estimate Std. Error z value Pr(>|z|)    \n",
       "(Intercept)                  4.01524    0.10034  40.018  < 2e-16 ***\n",
       "M.userY                     -0.21184    0.14257  -1.486  0.13731    \n",
       "TempHigh                    -0.42381    0.15159  -2.796  0.00518 ** \n",
       "SoftMedium                   0.05311    0.13308   0.399  0.68984    \n",
       "SoftSoft                     0.05311    0.13308   0.399  0.68984    \n",
       "BrandM                      -0.01587    0.06300  -0.252  0.80106    \n",
       "M.userY:TempHigh             0.13987    0.22168   0.631  0.52806    \n",
       "M.userY:SoftMedium           0.08323    0.19685   0.423  0.67245    \n",
       "M.userY:SoftSoft             0.12169    0.19591   0.621  0.53449    \n",
       "TempHigh:SoftMedium         -0.30442    0.22239  -1.369  0.17104    \n",
       "TempHigh:SoftSoft           -0.30442    0.22239  -1.369  0.17104    \n",
       "M.userY:TempHigh:SoftMedium  0.21189    0.31577   0.671  0.50220    \n",
       "M.userY:TempHigh:SoftSoft   -0.20387    0.32540  -0.627  0.53098    \n",
       "---\n",
       "Signif. codes:  0 ‘***’ 0.001 ‘**’ 0.01 ‘*’ 0.05 ‘.’ 0.1 ‘ ’ 1\n",
       "\n",
       "(Dispersion parameter for poisson family taken to be 1)\n",
       "\n",
       "    Null deviance: 118.627  on 23  degrees of freedom\n",
       "Residual deviance:  32.826  on 11  degrees of freedom\n",
       "AIC: 191.24\n",
       "\n",
       "Number of Fisher Scoring iterations: 4\n"
      ]
     },
     "metadata": {},
     "output_type": "display_data"
    }
   ],
   "source": [
    "Fr <- c(68,42,42,30, 37,52,24,43,\n",
    "\t66,50,33,23, 47,55,23,47,\n",
    "\t63,53,29,27, 57,49,19,29)\n",
    "\n",
    "Temp <- gl(2, 2, 24, labels = c(\"Low\", \"High\"))\n",
    "\n",
    "Soft <- gl(3, 8, 24, labels = c(\"Hard\",\"Medium\",\"Soft\"))\n",
    "M.user <- gl(2, 4, 24, labels = c(\"N\", \"Y\"))\n",
    "Brand <- gl(2, 1, 24, labels = c(\"X\", \"M\"))\n",
    "\n",
    "detg <- data.frame(Fr,Temp, Soft,M.user, Brand)\n",
    "\n",
    "detg.m0 <- glm(Fr ~ M.user*Temp*Soft + Brand, family = poisson, data = detg)\n",
    "summary(detg.m0)"
   ]
  },
  {
   "cell_type": "code",
   "execution_count": 11,
   "metadata": {},
   "outputs": [
    {
     "data": {
      "text/plain": [
       "\n",
       "Call:\n",
       "glm(formula = terms(Fr ~ M.user * Temp * Soft + Brand * M.user * \n",
       "    Temp, keep.order = TRUE), family = poisson, data = detg)\n",
       "\n",
       "Deviance Residuals: \n",
       "     Min        1Q    Median        3Q       Max  \n",
       "-0.91365  -0.35585   0.00253   0.33027   0.92146  \n",
       "\n",
       "Coefficients:\n",
       "                            Estimate Std. Error z value Pr(>|z|)    \n",
       "(Intercept)                  4.14887    0.10603  39.128  < 2e-16 ***\n",
       "M.userY                     -0.40521    0.16188  -2.503  0.01231 *  \n",
       "TempHigh                    -0.44275    0.17121  -2.586  0.00971 ** \n",
       "M.userY:TempHigh            -0.12692    0.26257  -0.483  0.62883    \n",
       "SoftMedium                   0.05311    0.13308   0.399  0.68984    \n",
       "SoftSoft                     0.05311    0.13308   0.399  0.68984    \n",
       "M.userY:SoftMedium           0.08323    0.19685   0.423  0.67245    \n",
       "M.userY:SoftSoft             0.12169    0.19591   0.621  0.53449    \n",
       "TempHigh:SoftMedium         -0.30442    0.22239  -1.369  0.17104    \n",
       "TempHigh:SoftSoft           -0.30442    0.22239  -1.369  0.17104    \n",
       "M.userY:TempHigh:SoftMedium  0.21189    0.31577   0.671  0.50220    \n",
       "M.userY:TempHigh:SoftSoft   -0.20387    0.32540  -0.627  0.53098    \n",
       "BrandM                      -0.30647    0.10942  -2.801  0.00510 ** \n",
       "M.userY:BrandM               0.40757    0.15961   2.554  0.01066 *  \n",
       "TempHigh:BrandM              0.04411    0.18463   0.239  0.81119    \n",
       "M.userY:TempHigh:BrandM      0.44427    0.26673   1.666  0.09579 .  \n",
       "---\n",
       "Signif. codes:  0 ‘***’ 0.001 ‘**’ 0.01 ‘*’ 0.05 ‘.’ 0.1 ‘ ’ 1\n",
       "\n",
       "(Dispersion parameter for poisson family taken to be 1)\n",
       "\n",
       "    Null deviance: 118.627  on 23  degrees of freedom\n",
       "Residual deviance:   5.656  on  8  degrees of freedom\n",
       "AIC: 170.07\n",
       "\n",
       "Number of Fisher Scoring iterations: 4\n"
      ]
     },
     "metadata": {},
     "output_type": "display_data"
    }
   ],
   "source": [
    "detg.mod <- glm(terms(Fr ~ M.user*Temp*Soft + Brand*M.user*Temp,\n",
    "                      keep.order = TRUE),\n",
    "\t\tfamily = poisson, data = detg)\n",
    "\n",
    "summary(detg.mod)"
   ]
  },
  {
   "cell_type": "code",
   "execution_count": 8,
   "metadata": {},
   "outputs": [
    {
     "data": {
      "text/plain": [
       "\n",
       "Call:\n",
       "glm(formula = terms(Fr ~ M.user * Temp * Soft + Brand * M.user * \n",
       "    Temp, keep.order = TRUE), family = poisson, data = detg)\n",
       "\n",
       "Deviance Residuals: \n",
       "     Min        1Q    Median        3Q       Max  \n",
       "-0.91365  -0.35585   0.00253   0.33027   0.92146  \n",
       "\n",
       "Coefficients:\n",
       "                            Estimate Std. Error z value Pr(>|z|)    \n",
       "(Intercept)                  4.14887    0.10603  39.128  < 2e-16 ***\n",
       "M.userY                     -0.40521    0.16188  -2.503  0.01231 *  \n",
       "TempHigh                    -0.44275    0.17121  -2.586  0.00971 ** \n",
       "M.userY:TempHigh            -0.12692    0.26257  -0.483  0.62883    \n",
       "SoftMedium                   0.05311    0.13308   0.399  0.68984    \n",
       "SoftSoft                     0.05311    0.13308   0.399  0.68984    \n",
       "M.userY:SoftMedium           0.08323    0.19685   0.423  0.67245    \n",
       "M.userY:SoftSoft             0.12169    0.19591   0.621  0.53449    \n",
       "TempHigh:SoftMedium         -0.30442    0.22239  -1.369  0.17104    \n",
       "TempHigh:SoftSoft           -0.30442    0.22239  -1.369  0.17104    \n",
       "M.userY:TempHigh:SoftMedium  0.21189    0.31577   0.671  0.50220    \n",
       "M.userY:TempHigh:SoftSoft   -0.20387    0.32540  -0.627  0.53098    \n",
       "BrandM                      -0.30647    0.10942  -2.801  0.00510 ** \n",
       "M.userY:BrandM               0.40757    0.15961   2.554  0.01066 *  \n",
       "TempHigh:BrandM              0.04411    0.18463   0.239  0.81119    \n",
       "M.userY:TempHigh:BrandM      0.44427    0.26673   1.666  0.09579 .  \n",
       "---\n",
       "Signif. codes:  0 ‘***’ 0.001 ‘**’ 0.01 ‘*’ 0.05 ‘.’ 0.1 ‘ ’ 1\n",
       "\n",
       "(Dispersion parameter for poisson family taken to be 1)\n",
       "\n",
       "    Null deviance: 118.627  on 23  degrees of freedom\n",
       "Residual deviance:   5.656  on  8  degrees of freedom\n",
       "AIC: 170.07\n",
       "\n",
       "Number of Fisher Scoring iterations: 4\n",
       "\n",
       "Correlation of Coefficients:\n",
       "                                                           \n",
       "(Intercept)                 1                              \n",
       "M.userY                     , 1                            \n",
       "TempHigh                    , . 1                          \n",
       "M.userY:TempHigh            . , , 1                        \n",
       "SoftMedium                  , . .   1                      \n",
       "SoftSoft                    , . .   . 1                    \n",
       "M.userY:SoftMedium          . ,   . , . 1                  \n",
       "M.userY:SoftSoft            . ,   . . , . 1                \n",
       "TempHigh:SoftMedium         .   , . . . .   1              \n",
       "TempHigh:SoftSoft           .   , . . .   . . 1            \n",
       "M.userY:TempHigh:SoftMedium   . . . .   , . , . 1          \n",
       "M.userY:TempHigh:SoftSoft     . . .   . . , . , . 1        \n",
       "BrandM                      .                       1      \n",
       "M.userY:BrandM                .                     , 1    \n",
       "TempHigh:BrandM                 . .                 . . 1  \n",
       "M.userY:TempHigh:BrandM         . .                 . . , 1\n",
       "attr(,\"legend\")\n",
       "[1] 0 ‘ ’ 0.3 ‘.’ 0.6 ‘,’ 0.8 ‘+’ 0.9 ‘*’ 0.95 ‘B’ 1\n"
      ]
     },
     "metadata": {},
     "output_type": "display_data"
    }
   ],
   "source": [
    "summary(detg.mod, correlation = TRUE, symbolic.cor = TRUE)"
   ]
  },
  {
   "cell_type": "code",
   "execution_count": 9,
   "metadata": {},
   "outputs": [
    {
     "data": {
      "text/html": [
       "<table>\n",
       "<thead><tr><th scope=col>Resid. Df</th><th scope=col>Resid. Dev</th><th scope=col>Df</th><th scope=col>Deviance</th></tr></thead>\n",
       "<tbody>\n",
       "\t<tr><td>11       </td><td>32.825623</td><td>NA       </td><td>      NA </td></tr>\n",
       "\t<tr><td> 8       </td><td> 5.656044</td><td> 3       </td><td>27.16958 </td></tr>\n",
       "</tbody>\n",
       "</table>\n"
      ],
      "text/latex": [
       "\\begin{tabular}{r|llll}\n",
       " Resid. Df & Resid. Dev & Df & Deviance\\\\\n",
       "\\hline\n",
       "\t 11        & 32.825623 & NA        &       NA \\\\\n",
       "\t  8        &  5.656044 &  3        & 27.16958 \\\\\n",
       "\\end{tabular}\n"
      ],
      "text/markdown": [
       "\n",
       "Resid. Df | Resid. Dev | Df | Deviance | \n",
       "|---|---|\n",
       "| 11        | 32.825623 | NA        |       NA  | \n",
       "|  8        |  5.656044 |  3        | 27.16958  | \n",
       "\n",
       "\n"
      ],
      "text/plain": [
       "  Resid. Df Resid. Dev Df Deviance\n",
       "1 11        32.825623  NA       NA\n",
       "2  8         5.656044   3 27.16958"
      ]
     },
     "metadata": {},
     "output_type": "display_data"
    }
   ],
   "source": [
    "anova(detg.m0, detg.mod)"
   ]
  }
 ],
 "metadata": {
  "kernelspec": {
   "display_name": "R",
   "language": "R",
   "name": "ir"
  },
  "language_info": {
   "codemirror_mode": "r",
   "file_extension": ".r",
   "mimetype": "text/x-r-source",
   "name": "R",
   "pygments_lexer": "r",
   "version": "3.4.3"
  }
 },
 "nbformat": 4,
 "nbformat_minor": 2
}
