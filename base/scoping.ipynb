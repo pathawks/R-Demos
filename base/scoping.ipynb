{
 "cells": [
  {
   "cell_type": "markdown",
   "metadata": {},
   "source": [
    "Copyright &copy; 1997-8 The R Core Team"
   ]
  },
  {
   "cell_type": "code",
   "execution_count": 1,
   "metadata": {
    "collapsed": true
   },
   "outputs": [],
   "source": [
    "## Here is a little example which shows a fundamental difference between\n",
    "## R and S.  It is a little example from Abelson and Sussman which models\n",
    "## the way in which bank accounts work.\tIt shows how R functions can\n",
    "## encapsulate state information.\n",
    "##\n",
    "## When invoked, \"open.account\" defines and returns three functions\n",
    "## in a list.  Because the variable \"total\" exists in the environment\n",
    "## where these functions are defined they have access to its value.\n",
    "## This is even true when \"open.account\" has returned.  The only way\n",
    "## to access the value of \"total\" is through the accessor functions\n",
    "## withdraw, deposit and balance.  Separate accounts maintain their\n",
    "## own balances.\n",
    "##\n",
    "## This is a very nifty way of creating \"closures\" and a little thought\n",
    "## will show you that there are many ways of using this in statistics.\n",
    "\n",
    "open.account <- function(total) {\n",
    "\n",
    "    list(\n",
    "         deposit = function(amount) {\n",
    "             if(amount <= 0)\n",
    "                 stop(\"Deposits must be positive!\\n\")\n",
    "             total <<- total + amount\n",
    "             cat(amount,\"deposited. Your balance is\", total, \"\\n\\n\")\n",
    "         },\n",
    "         withdraw = function(amount) {\n",
    "             if(amount > total)\n",
    "                 stop(\"You don't have that much money!\\n\")\n",
    "             total <<- total - amount\n",
    "             cat(amount,\"withdrawn.  Your balance is\", total, \"\\n\\n\")\n",
    "         },\n",
    "         balance = function() {\n",
    "             cat(\"Your balance is\", total, \"\\n\\n\")\n",
    "         }\n",
    "         )\n",
    "}\n",
    "\n",
    "ross <- open.account(100)\n",
    "robert <- open.account(200)"
   ]
  },
  {
   "cell_type": "code",
   "execution_count": 2,
   "metadata": {},
   "outputs": [
    {
     "name": "stdout",
     "output_type": "stream",
     "text": [
      "30 withdrawn.  Your balance is 70 \n",
      "\n"
     ]
    }
   ],
   "source": [
    "ross$withdraw(30)"
   ]
  },
  {
   "cell_type": "code",
   "execution_count": 3,
   "metadata": {},
   "outputs": [
    {
     "name": "stdout",
     "output_type": "stream",
     "text": [
      "Your balance is 70 \n",
      "\n"
     ]
    }
   ],
   "source": [
    "ross$balance()"
   ]
  },
  {
   "cell_type": "code",
   "execution_count": 4,
   "metadata": {},
   "outputs": [
    {
     "name": "stdout",
     "output_type": "stream",
     "text": [
      "Your balance is 200 \n",
      "\n"
     ]
    }
   ],
   "source": [
    "robert$balance()"
   ]
  },
  {
   "cell_type": "code",
   "execution_count": 5,
   "metadata": {},
   "outputs": [
    {
     "name": "stdout",
     "output_type": "stream",
     "text": [
      "50 deposited. Your balance is 120 \n",
      "\n"
     ]
    }
   ],
   "source": [
    "ross$deposit(50)"
   ]
  },
  {
   "cell_type": "code",
   "execution_count": 6,
   "metadata": {},
   "outputs": [
    {
     "name": "stdout",
     "output_type": "stream",
     "text": [
      "Your balance is 120 \n",
      "\n"
     ]
    }
   ],
   "source": [
    "ross$balance()"
   ]
  },
  {
   "cell_type": "code",
   "execution_count": 7,
   "metadata": {},
   "outputs": [],
   "source": [
    "try(ross$withdraw(500)) # no way.."
   ]
  }
 ],
 "metadata": {
  "kernelspec": {
   "display_name": "R",
   "language": "R",
   "name": "ir"
  },
  "language_info": {
   "codemirror_mode": "r",
   "file_extension": ".r",
   "mimetype": "text/x-r-source",
   "name": "R",
   "pygments_lexer": "r",
   "version": "3.4.3"
  }
 },
 "nbformat": 4,
 "nbformat_minor": 2
}
