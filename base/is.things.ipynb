{
 "cells": [
  {
   "cell_type": "markdown",
   "metadata": {},
   "source": [
    "Copyright &copy; 1997-2013 The R Core Team"
   ]
  },
  {
   "cell_type": "code",
   "execution_count": 1,
   "metadata": {},
   "outputs": [
    {
     "name": "stdout",
     "output_type": "stream",
     "text": [
      "\n",
      "Number of base objects:\t\t1324\n",
      "Number of functions in base:\t1282\n",
      "\t starting with 'is.' :\t  50\n"
     ]
    }
   ],
   "source": [
    "## being a 'builtin' function is not the same as being in base\n",
    "ls.base <- ls(\"package:base\", all=TRUE)\n",
    "base.is.f <- sapply(ls.base, function(x) is.function(get(x)))\n",
    "cat(\"\\nNumber of base objects:\\t\\t\", length(ls.base),\n",
    "    \"\\nNumber of functions in base:\\t\", sum(base.is.f),\n",
    "    \"\\n\\t starting with 'is.' :\\t  \",\n",
    "    sum(grepl(\"^is\\\\.\", ls.base[base.is.f])), \"\\n\", sep = \"\")\n",
    "## 0.14  : 31\n",
    "## 0.50  : 33\n",
    "## 0.60  : 34\n",
    "## 0.63  : 37\n",
    "## 1.0.0 : 38\n",
    "## 1.3.0 : 41\n",
    "## 1.6.0 : 45\n",
    "## 2.0.0 : 45"
   ]
  },
  {
   "cell_type": "code",
   "execution_count": 2,
   "metadata": {
    "collapsed": true
   },
   "outputs": [],
   "source": [
    "## Do we have a method (probably)?\n",
    "is.method <- function(fname) {\n",
    "    isFun <- function(name) (exists(name, mode=\"function\") &&\n",
    "                             is.na(match(name, c(\"is\", \"as\"))))\n",
    "    np <- length(sp <- strsplit(fname, split = \"\\\\.\")[[1]])\n",
    "    if(np <= 1 )\n",
    "        FALSE\n",
    "    else\n",
    "        (isFun(paste(sp[1:(np-1)], collapse = '.')) ||\n",
    "         (np >= 3 &&\n",
    "          isFun(paste(sp[1:(np-2)], collapse = '.'))))\n",
    "}"
   ]
  },
  {
   "cell_type": "code",
   "execution_count": 3,
   "metadata": {
    "collapsed": true
   },
   "outputs": [],
   "source": [
    "is.ALL <- function(obj, func.names = ls(pos=length(search())),\n",
    "\t\t   not.using = c(\"is.single\", \"is.real\", \"is.loaded\",\n",
    "                     \"is.empty.model\", \"is.R\", \"is.element\", \"is.unsorted\"),\n",
    "\t\t   true.only = FALSE, debug = FALSE)\n",
    "{\n",
    "    ## Purpose: show many 'attributes' of  R object __obj__\n",
    "    ## -------------------------------------------------------------------------\n",
    "    ## Arguments: obj: any R object\n",
    "    ## -------------------------------------------------------------------------\n",
    "    ## Author: Martin Maechler, Date: 6 Dec 1996\n",
    "\n",
    "    is.fn <- func.names[substring(func.names,1,3) == \"is.\"]\n",
    "    is.fn <- is.fn[substring(is.fn,1,7) != \"is.na<-\"]\n",
    "    use.fn <- is.fn[ is.na(match(is.fn, not.using))\n",
    "                    & ! sapply(is.fn, is.method) ]\n",
    "\n",
    "    r <- if(true.only) character(0)\n",
    "    else structure(vector(\"list\", length= length(use.fn)), names= use.fn)\n",
    "    for(f in use.fn) {\n",
    "\tif(any(f == c(\"is.na\", \"is.finite\"))) {\n",
    "\t    if(!is.list(obj) && !is.vector(obj) && !is.array(obj)) {\n",
    "\t\tif(!true.only) r[[f]] <- NA\n",
    "\t\tnext\n",
    "\t    }\n",
    "\t}\n",
    "\tif(any(f == c(\"is.nan\", \"is.finite\", \"is.infinite\"))) {\n",
    "\t    if(!is.atomic(obj)) {\n",
    "\t    \tif(!true.only) r[[f]] <- NA\n",
    "\t    \tnext\n",
    "\t    }\n",
    "\t}\n",
    "\tif(debug) cat(f,\"\")\n",
    "\tfn <- get(f)\n",
    "\trr <- if(is.primitive(fn) || length(formals(fn))>0)  fn(obj) else fn()\n",
    "\tif(!is.logical(rr)) cat(\"f=\",f,\" --- rr\t is NOT logical\t = \",rr,\"\\n\")\n",
    "\t##if(1!=length(rr))   cat(\"f=\",f,\" --- rr NOT of length 1; = \",rr,\"\\n\")\n",
    "\tif(true.only && length(rr)==1 && !is.na(rr) && rr) r <- c(r, f)\n",
    "\telse if(!true.only) r[[f]] <- rr\n",
    "    }\n",
    "    if(debug)cat(\"\\n\")\n",
    "    if(is.list(r)) structure(r, class = \"isList\") else r\n",
    "}"
   ]
  },
  {
   "cell_type": "code",
   "execution_count": 4,
   "metadata": {
    "collapsed": true
   },
   "outputs": [],
   "source": [
    "print.isList <- function(x, ..., verbose = getOption(\"verbose\"))\n",
    "{\n",
    "    ## Purpose:\t print METHOD  for `isList' objects\n",
    "    ## ------------------------------------------------\n",
    "    ## Author: Martin Maechler, Date: 12 Mar 1997\n",
    "    if(is.list(x)) {\n",
    "        if(verbose) cat(\"print.isList(): list case (length=\",length(x),\")\\n\")\n",
    "\tnm <- format(names(x))\n",
    "\trr <- lapply(x, stats::symnum, na = \"NA\")\n",
    "\tfor(i in seq_along(x)) cat(nm[i],\":\",rr[[i]],\"\\n\", ...)\n",
    "    } else NextMethod(\"print\", ...)\n",
    "}"
   ]
  },
  {
   "cell_type": "code",
   "execution_count": 5,
   "metadata": {},
   "outputs": [
    {
     "data": {
      "text/plain": [
       "is.array           : . \n",
       "is.atomic          : | \n",
       "is.call            : . \n",
       "is.character       : . \n",
       "is.complex         : . \n",
       "is.data.frame      : . \n",
       "is.double          : . \n",
       "is.environment     : . \n",
       "is.expression      : . \n",
       "is.factor          : . \n",
       "is.finite          : NA \n",
       "is.function        : . \n",
       "is.infinite        :  \n",
       "is.integer         : . \n",
       "is.language        : . \n",
       "is.list            : . \n",
       "is.logical         : . \n",
       "is.matrix          : . \n",
       "is.na              : NA \n",
       "is.name            : . \n",
       "is.nan             :  \n",
       "is.null            : | \n",
       "is.numeric         : . \n",
       "is.numeric_version : . \n",
       "is.object          : . \n",
       "is.ordered         : . \n",
       "is.package_version : . \n",
       "is.pairlist        : | \n",
       "is.primitive       : . \n",
       "is.qr              : . \n",
       "is.raw             : . \n",
       "is.recursive       : . \n",
       "is.symbol          : . \n",
       "is.table           : . \n",
       "is.vector          : . "
      ]
     },
     "metadata": {},
     "output_type": "display_data"
    }
   ],
   "source": [
    "is.ALL(NULL)\n",
    "##fails: is.ALL(NULL, not.using = c(\"is.single\", \"is.loaded\"))"
   ]
  },
  {
   "cell_type": "code",
   "execution_count": 6,
   "metadata": {},
   "outputs": [
    {
     "data": {
      "text/html": [
       "<ol class=list-inline>\n",
       "\t<li>'is.atomic'</li>\n",
       "\t<li>'is.null'</li>\n",
       "\t<li>'is.pairlist'</li>\n",
       "</ol>\n"
      ],
      "text/latex": [
       "\\begin{enumerate*}\n",
       "\\item 'is.atomic'\n",
       "\\item 'is.null'\n",
       "\\item 'is.pairlist'\n",
       "\\end{enumerate*}\n"
      ],
      "text/markdown": [
       "1. 'is.atomic'\n",
       "2. 'is.null'\n",
       "3. 'is.pairlist'\n",
       "\n",
       "\n"
      ],
      "text/plain": [
       "[1] \"is.atomic\"   \"is.null\"     \"is.pairlist\""
      ]
     },
     "metadata": {},
     "output_type": "display_data"
    }
   ],
   "source": [
    "is.ALL(NULL,   true.only = TRUE)"
   ]
  },
  {
   "cell_type": "code",
   "execution_count": 7,
   "metadata": {},
   "outputs": [
    {
     "data": {
      "text/html": [
       "TRUE"
      ],
      "text/latex": [
       "TRUE"
      ],
      "text/markdown": [
       "TRUE"
      ],
      "text/plain": [
       "[1] TRUE"
      ]
     },
     "metadata": {},
     "output_type": "display_data"
    }
   ],
   "source": [
    "all.equal(NULL, pairlist())\n",
    "## list() != NULL == pairlist() :"
   ]
  },
  {
   "cell_type": "code",
   "execution_count": 8,
   "metadata": {},
   "outputs": [
    {
     "data": {
      "text/html": [
       "<ol class=list-inline>\n",
       "\t<li>'is.list'</li>\n",
       "\t<li>'is.recursive'</li>\n",
       "\t<li>'is.vector'</li>\n",
       "</ol>\n"
      ],
      "text/latex": [
       "\\begin{enumerate*}\n",
       "\\item 'is.list'\n",
       "\\item 'is.recursive'\n",
       "\\item 'is.vector'\n",
       "\\end{enumerate*}\n"
      ],
      "text/markdown": [
       "1. 'is.list'\n",
       "2. 'is.recursive'\n",
       "3. 'is.vector'\n",
       "\n",
       "\n"
      ],
      "text/plain": [
       "[1] \"is.list\"      \"is.recursive\" \"is.vector\"   "
      ]
     },
     "metadata": {},
     "output_type": "display_data"
    }
   ],
   "source": [
    "is.ALL(list(), true.only = TRUE)"
   ]
  },
  {
   "cell_type": "code",
   "execution_count": 9,
   "metadata": {},
   "outputs": [
    {
     "data": {
      "text/html": [
       "<ol class=list-inline>\n",
       "\t<li>'is.list'</li>\n",
       "\t<li>'is.pairlist'</li>\n",
       "\t<li>'is.recursive'</li>\n",
       "</ol>\n"
      ],
      "text/latex": [
       "\\begin{enumerate*}\n",
       "\\item 'is.list'\n",
       "\\item 'is.pairlist'\n",
       "\\item 'is.recursive'\n",
       "\\end{enumerate*}\n"
      ],
      "text/markdown": [
       "1. 'is.list'\n",
       "2. 'is.pairlist'\n",
       "3. 'is.recursive'\n",
       "\n",
       "\n"
      ],
      "text/plain": [
       "[1] \"is.list\"      \"is.pairlist\"  \"is.recursive\""
      ]
     },
     "metadata": {},
     "output_type": "display_data"
    }
   ],
   "source": [
    "(pl <- is.ALL(pairlist(1,    list(3,\"A\")), true.only = TRUE))"
   ]
  },
  {
   "cell_type": "code",
   "execution_count": 10,
   "metadata": {},
   "outputs": [
    {
     "data": {
      "text/html": [
       "<ol class=list-inline>\n",
       "\t<li>'is.list'</li>\n",
       "\t<li>'is.recursive'</li>\n",
       "\t<li>'is.vector'</li>\n",
       "</ol>\n"
      ],
      "text/latex": [
       "\\begin{enumerate*}\n",
       "\\item 'is.list'\n",
       "\\item 'is.recursive'\n",
       "\\item 'is.vector'\n",
       "\\end{enumerate*}\n"
      ],
      "text/markdown": [
       "1. 'is.list'\n",
       "2. 'is.recursive'\n",
       "3. 'is.vector'\n",
       "\n",
       "\n"
      ],
      "text/plain": [
       "[1] \"is.list\"      \"is.recursive\" \"is.vector\"   "
      ]
     },
     "metadata": {},
     "output_type": "display_data"
    }
   ],
   "source": [
    "(ll <- is.ALL(    list(1,pairlist(3,\"A\")), true.only = TRUE))"
   ]
  },
  {
   "cell_type": "code",
   "execution_count": 11,
   "metadata": {},
   "outputs": [
    {
     "data": {
      "text/html": [
       "TRUE"
      ],
      "text/latex": [
       "TRUE"
      ],
      "text/markdown": [
       "TRUE"
      ],
      "text/plain": [
       "[1] TRUE"
      ]
     },
     "metadata": {},
     "output_type": "display_data"
    }
   ],
   "source": [
    "all.equal(pl[pl != \"is.pairlist\"],\n",
    "          ll[ll != \"is.vector\"])## TRUE"
   ]
  },
  {
   "cell_type": "code",
   "execution_count": 12,
   "metadata": {},
   "outputs": [
    {
     "data": {
      "text/plain": [
       "is.array           : . \n",
       "is.atomic          : | \n",
       "is.call            : . \n",
       "is.character       : . \n",
       "is.complex         : . \n",
       "is.data.frame      : . \n",
       "is.double          : . \n",
       "is.environment     : . \n",
       "is.expression      : . \n",
       "is.factor          : . \n",
       "is.finite          : | | | | | \n",
       "is.function        : . \n",
       "is.infinite        : . . . . . \n",
       "is.integer         : | \n",
       "is.language        : . \n",
       "is.list            : . \n",
       "is.logical         : . \n",
       "is.matrix          : . \n",
       "is.na              : . . . . . \n",
       "is.name            : . \n",
       "is.nan             : . . . . . \n",
       "is.null            : . \n",
       "is.numeric         : | \n",
       "is.numeric_version : . \n",
       "is.object          : . \n",
       "is.ordered         : . \n",
       "is.package_version : . \n",
       "is.pairlist        : . \n",
       "is.primitive       : . \n",
       "is.qr              : . \n",
       "is.raw             : . \n",
       "is.recursive       : . \n",
       "is.symbol          : . \n",
       "is.table           : . \n",
       "is.vector          : | "
      ]
     },
     "metadata": {},
     "output_type": "display_data"
    }
   ],
   "source": [
    "is.ALL(1:5)"
   ]
  },
  {
   "cell_type": "code",
   "execution_count": 13,
   "metadata": {},
   "outputs": [
    {
     "data": {
      "text/plain": [
       "is.array           : | \n",
       "is.atomic          : | \n",
       "is.call            : . \n",
       "is.character       : . \n",
       "is.complex         : . \n",
       "is.data.frame      : . \n",
       "is.double          : . \n",
       "is.environment     : . \n",
       "is.expression      : . \n",
       "is.factor          : . \n",
       "is.finite          : | | | | | | | | | | | | | | | | | | | | | | | | \n",
       "is.function        : . \n",
       "is.infinite        : . . . . . . . . . . . . . . . . . . . . . . . . \n",
       "is.integer         : | \n",
       "is.language        : . \n",
       "is.list            : . \n",
       "is.logical         : . \n",
       "is.matrix          : . \n",
       "is.na              : . . . . . . . . . . . . . . . . . . . . . . . . \n",
       "is.name            : . \n",
       "is.nan             : . . . . . . . . . . . . . . . . . . . . . . . . \n",
       "is.null            : . \n",
       "is.numeric         : | \n",
       "is.numeric_version : . \n",
       "is.object          : . \n",
       "is.ordered         : . \n",
       "is.package_version : . \n",
       "is.pairlist        : . \n",
       "is.primitive       : . \n",
       "is.qr              : . \n",
       "is.raw             : . \n",
       "is.recursive       : . \n",
       "is.symbol          : . \n",
       "is.table           : . \n",
       "is.vector          : . "
      ]
     },
     "metadata": {},
     "output_type": "display_data"
    }
   ],
   "source": [
    "is.ALL(array(1:24, 2:4))"
   ]
  },
  {
   "cell_type": "code",
   "execution_count": 14,
   "metadata": {},
   "outputs": [
    {
     "data": {
      "text/plain": [
       "is.array           : . \n",
       "is.atomic          : | \n",
       "is.call            : . \n",
       "is.character       : . \n",
       "is.complex         : . \n",
       "is.data.frame      : . \n",
       "is.double          : | \n",
       "is.environment     : . \n",
       "is.expression      : . \n",
       "is.factor          : . \n",
       "is.finite          : | \n",
       "is.function        : . \n",
       "is.infinite        : . \n",
       "is.integer         : . \n",
       "is.language        : . \n",
       "is.list            : . \n",
       "is.logical         : . \n",
       "is.matrix          : . \n",
       "is.na              : . \n",
       "is.name            : . \n",
       "is.nan             : . \n",
       "is.null            : . \n",
       "is.numeric         : | \n",
       "is.numeric_version : . \n",
       "is.object          : . \n",
       "is.ordered         : . \n",
       "is.package_version : . \n",
       "is.pairlist        : . \n",
       "is.primitive       : . \n",
       "is.qr              : . \n",
       "is.raw             : . \n",
       "is.recursive       : . \n",
       "is.symbol          : . \n",
       "is.table           : . \n",
       "is.vector          : | "
      ]
     },
     "metadata": {},
     "output_type": "display_data"
    }
   ],
   "source": [
    "is.ALL(1 + 3)"
   ]
  },
  {
   "cell_type": "code",
   "execution_count": 15,
   "metadata": {},
   "outputs": [
    {
     "name": "stderr",
     "output_type": "stream",
     "text": [
      "Warning message in fn(obj):\n",
      "“is.na() applied to non-(list or vector) of type 'expression'”"
     ]
    },
    {
     "data": {
      "text/plain": [
       "is.array           : . \n",
       "is.atomic          : . \n",
       "is.call            : . \n",
       "is.character       : . \n",
       "is.complex         : . \n",
       "is.data.frame      : . \n",
       "is.double          : . \n",
       "is.environment     : . \n",
       "is.expression      : | \n",
       "is.factor          : . \n",
       "is.finite          : NA \n",
       "is.function        : . \n",
       "is.infinite        : NA \n",
       "is.integer         : . \n",
       "is.language        : | \n",
       "is.list            : . \n",
       "is.logical         : . \n",
       "is.matrix          : . \n",
       "is.na              : . \n",
       "is.name            : . \n",
       "is.nan             : NA \n",
       "is.null            : . \n",
       "is.numeric         : . \n",
       "is.numeric_version : . \n",
       "is.object          : . \n",
       "is.ordered         : . \n",
       "is.package_version : . \n",
       "is.pairlist        : . \n",
       "is.primitive       : . \n",
       "is.qr              : . \n",
       "is.raw             : . \n",
       "is.recursive       : | \n",
       "is.symbol          : . \n",
       "is.table           : . \n",
       "is.vector          : | "
      ]
     },
     "metadata": {},
     "output_type": "display_data"
    }
   ],
   "source": [
    "e13 <- expression(1 + 3)\n",
    "is.ALL(e13)"
   ]
  },
  {
   "cell_type": "code",
   "execution_count": 16,
   "metadata": {},
   "outputs": [
    {
     "data": {
      "text/html": [
       "<ol class=list-inline>\n",
       "\t<li>'is.call'</li>\n",
       "\t<li>'is.language'</li>\n",
       "\t<li>'is.recursive'</li>\n",
       "</ol>\n"
      ],
      "text/latex": [
       "\\begin{enumerate*}\n",
       "\\item 'is.call'\n",
       "\\item 'is.language'\n",
       "\\item 'is.recursive'\n",
       "\\end{enumerate*}\n"
      ],
      "text/markdown": [
       "1. 'is.call'\n",
       "2. 'is.language'\n",
       "3. 'is.recursive'\n",
       "\n",
       "\n"
      ],
      "text/plain": [
       "[1] \"is.call\"      \"is.language\"  \"is.recursive\""
      ]
     },
     "metadata": {},
     "output_type": "display_data"
    }
   ],
   "source": [
    "is.ALL(substitute(expression(a + 3), list(a=1)), true.only = TRUE)"
   ]
  },
  {
   "cell_type": "code",
   "execution_count": 17,
   "metadata": {},
   "outputs": [
    {
     "data": {
      "text/plain": [
       "is.array           : . \n",
       "is.atomic          : . \n",
       "is.call            : | \n",
       "is.character       : . \n",
       "is.complex         : . \n",
       "is.data.frame      : . \n",
       "is.double          : . \n",
       "is.environment     : . \n",
       "is.expression      : . \n",
       "is.factor          : . \n",
       "is.finite          : NA \n",
       "is.function        : . \n",
       "is.infinite        : NA \n",
       "is.integer         : . \n",
       "is.language        : | \n",
       "is.list            : . \n",
       "is.logical         : . \n",
       "is.matrix          : . \n",
       "is.na              : NA \n",
       "is.name            : . \n",
       "is.nan             : NA \n",
       "is.null            : . \n",
       "is.numeric         : . \n",
       "is.numeric_version : . \n",
       "is.object          : | \n",
       "is.ordered         : . \n",
       "is.package_version : . \n",
       "is.pairlist        : . \n",
       "is.primitive       : . \n",
       "is.qr              : . \n",
       "is.raw             : . \n",
       "is.recursive       : | \n",
       "is.symbol          : . \n",
       "is.table           : . \n",
       "is.vector          : . "
      ]
     },
     "metadata": {},
     "output_type": "display_data"
    }
   ],
   "source": [
    "is.ALL(y ~ x) #--> NA\t for is.na & is.finite"
   ]
  },
  {
   "cell_type": "code",
   "execution_count": 18,
   "metadata": {},
   "outputs": [
    {
     "data": {
      "text/html": [
       "<dl>\n",
       "\t<dt>$is.finite</dt>\n",
       "\t\t<dd></dd>\n",
       "\t<dt>$is.infinite</dt>\n",
       "\t\t<dd></dd>\n",
       "\t<dt>$is.na</dt>\n",
       "\t\t<dd></dd>\n",
       "\t<dt>$is.nan</dt>\n",
       "\t\t<dd></dd>\n",
       "</dl>\n"
      ],
      "text/latex": [
       "\\begin{description}\n",
       "\\item[\\$is.finite] \n",
       "\\item[\\$is.infinite] \n",
       "\\item[\\$is.na] \n",
       "\\item[\\$is.nan] \n",
       "\\end{description}\n"
      ],
      "text/markdown": [
       "$is.finite\n",
       ":   \n",
       "$is.infinite\n",
       ":   \n",
       "$is.na\n",
       ":   \n",
       "$is.nan\n",
       ":   \n",
       "\n",
       "\n"
      ],
      "text/plain": [
       "$is.finite\n",
       "logical(0)\n",
       "\n",
       "$is.infinite\n",
       "logical(0)\n",
       "\n",
       "$is.na\n",
       "logical(0)\n",
       "\n",
       "$is.nan\n",
       "logical(0)\n"
      ]
     },
     "metadata": {},
     "output_type": "display_data"
    },
    {
     "data": {
      "text/html": [
       "<dl class=dl-horizontal>\n",
       "\t<dt>is.array</dt>\n",
       "\t\t<dd>FALSE</dd>\n",
       "\t<dt>is.atomic</dt>\n",
       "\t\t<dd>TRUE</dd>\n",
       "\t<dt>is.call</dt>\n",
       "\t\t<dd>FALSE</dd>\n",
       "\t<dt>is.character</dt>\n",
       "\t\t<dd>FALSE</dd>\n",
       "\t<dt>is.complex</dt>\n",
       "\t\t<dd>FALSE</dd>\n",
       "\t<dt>is.data.frame</dt>\n",
       "\t\t<dd>FALSE</dd>\n",
       "\t<dt>is.double</dt>\n",
       "\t\t<dd>TRUE</dd>\n",
       "\t<dt>is.environment</dt>\n",
       "\t\t<dd>FALSE</dd>\n",
       "\t<dt>is.expression</dt>\n",
       "\t\t<dd>FALSE</dd>\n",
       "\t<dt>is.factor</dt>\n",
       "\t\t<dd>FALSE</dd>\n",
       "\t<dt>is.function</dt>\n",
       "\t\t<dd>FALSE</dd>\n",
       "\t<dt>is.integer</dt>\n",
       "\t\t<dd>FALSE</dd>\n",
       "\t<dt>is.language</dt>\n",
       "\t\t<dd>FALSE</dd>\n",
       "\t<dt>is.list</dt>\n",
       "\t\t<dd>FALSE</dd>\n",
       "\t<dt>is.logical</dt>\n",
       "\t\t<dd>FALSE</dd>\n",
       "\t<dt>is.matrix</dt>\n",
       "\t\t<dd>FALSE</dd>\n",
       "\t<dt>is.name</dt>\n",
       "\t\t<dd>FALSE</dd>\n",
       "\t<dt>is.null</dt>\n",
       "\t\t<dd>FALSE</dd>\n",
       "\t<dt>is.numeric</dt>\n",
       "\t\t<dd>TRUE</dd>\n",
       "\t<dt>is.numeric_version</dt>\n",
       "\t\t<dd>FALSE</dd>\n",
       "\t<dt>is.object</dt>\n",
       "\t\t<dd>FALSE</dd>\n",
       "\t<dt>is.ordered</dt>\n",
       "\t\t<dd>FALSE</dd>\n",
       "\t<dt>is.package_version</dt>\n",
       "\t\t<dd>FALSE</dd>\n",
       "\t<dt>is.pairlist</dt>\n",
       "\t\t<dd>FALSE</dd>\n",
       "\t<dt>is.primitive</dt>\n",
       "\t\t<dd>FALSE</dd>\n",
       "\t<dt>is.qr</dt>\n",
       "\t\t<dd>FALSE</dd>\n",
       "\t<dt>is.raw</dt>\n",
       "\t\t<dd>FALSE</dd>\n",
       "\t<dt>is.recursive</dt>\n",
       "\t\t<dd>FALSE</dd>\n",
       "\t<dt>is.symbol</dt>\n",
       "\t\t<dd>FALSE</dd>\n",
       "\t<dt>is.table</dt>\n",
       "\t\t<dd>FALSE</dd>\n",
       "\t<dt>is.vector</dt>\n",
       "\t\t<dd>TRUE</dd>\n",
       "</dl>\n"
      ],
      "text/latex": [
       "\\begin{description*}\n",
       "\\item[is.array] FALSE\n",
       "\\item[is.atomic] TRUE\n",
       "\\item[is.call] FALSE\n",
       "\\item[is.character] FALSE\n",
       "\\item[is.complex] FALSE\n",
       "\\item[is.data.frame] FALSE\n",
       "\\item[is.double] TRUE\n",
       "\\item[is.environment] FALSE\n",
       "\\item[is.expression] FALSE\n",
       "\\item[is.factor] FALSE\n",
       "\\item[is.function] FALSE\n",
       "\\item[is.integer] FALSE\n",
       "\\item[is.language] FALSE\n",
       "\\item[is.list] FALSE\n",
       "\\item[is.logical] FALSE\n",
       "\\item[is.matrix] FALSE\n",
       "\\item[is.name] FALSE\n",
       "\\item[is.null] FALSE\n",
       "\\item[is.numeric] TRUE\n",
       "\\item[is.numeric\\textbackslash{}\\_version] FALSE\n",
       "\\item[is.object] FALSE\n",
       "\\item[is.ordered] FALSE\n",
       "\\item[is.package\\textbackslash{}\\_version] FALSE\n",
       "\\item[is.pairlist] FALSE\n",
       "\\item[is.primitive] FALSE\n",
       "\\item[is.qr] FALSE\n",
       "\\item[is.raw] FALSE\n",
       "\\item[is.recursive] FALSE\n",
       "\\item[is.symbol] FALSE\n",
       "\\item[is.table] FALSE\n",
       "\\item[is.vector] TRUE\n",
       "\\end{description*}\n"
      ],
      "text/markdown": [
       "is.array\n",
       ":   FALSEis.atomic\n",
       ":   TRUEis.call\n",
       ":   FALSEis.character\n",
       ":   FALSEis.complex\n",
       ":   FALSEis.data.frame\n",
       ":   FALSEis.double\n",
       ":   TRUEis.environment\n",
       ":   FALSEis.expression\n",
       ":   FALSEis.factor\n",
       ":   FALSEis.function\n",
       ":   FALSEis.integer\n",
       ":   FALSEis.language\n",
       ":   FALSEis.list\n",
       ":   FALSEis.logical\n",
       ":   FALSEis.matrix\n",
       ":   FALSEis.name\n",
       ":   FALSEis.null\n",
       ":   FALSEis.numeric\n",
       ":   TRUEis.numeric_version\n",
       ":   FALSEis.object\n",
       ":   FALSEis.ordered\n",
       ":   FALSEis.package_version\n",
       ":   FALSEis.pairlist\n",
       ":   FALSEis.primitive\n",
       ":   FALSEis.qr\n",
       ":   FALSEis.raw\n",
       ":   FALSEis.recursive\n",
       ":   FALSEis.symbol\n",
       ":   FALSEis.table\n",
       ":   FALSEis.vector\n",
       ":   TRUE\n",
       "\n"
      ],
      "text/plain": [
       "          is.array          is.atomic            is.call       is.character \n",
       "             FALSE               TRUE              FALSE              FALSE \n",
       "        is.complex      is.data.frame          is.double     is.environment \n",
       "             FALSE              FALSE               TRUE              FALSE \n",
       "     is.expression          is.factor        is.function         is.integer \n",
       "             FALSE              FALSE              FALSE              FALSE \n",
       "       is.language            is.list         is.logical          is.matrix \n",
       "             FALSE              FALSE              FALSE              FALSE \n",
       "           is.name            is.null         is.numeric is.numeric_version \n",
       "             FALSE              FALSE               TRUE              FALSE \n",
       "         is.object         is.ordered is.package_version        is.pairlist \n",
       "             FALSE              FALSE              FALSE              FALSE \n",
       "      is.primitive              is.qr             is.raw       is.recursive \n",
       "             FALSE              FALSE              FALSE              FALSE \n",
       "         is.symbol           is.table          is.vector \n",
       "             FALSE              FALSE               TRUE "
      ]
     },
     "metadata": {},
     "output_type": "display_data"
    }
   ],
   "source": [
    "is0 <- is.ALL(numeric(0))\n",
    "is0.ok <- 1 == (lis0 <- sapply(is0, length))\n",
    "is0[!is0.ok]\n",
    "is0 <- unlist(is0)\n",
    "is0"
   ]
  },
  {
   "cell_type": "code",
   "execution_count": 19,
   "metadata": {},
   "outputs": [
    {
     "data": {
      "text/html": [
       "TRUE"
      ],
      "text/latex": [
       "TRUE"
      ],
      "text/markdown": [
       "TRUE"
      ],
      "text/plain": [
       "[1] TRUE"
      ]
     },
     "metadata": {},
     "output_type": "display_data"
    }
   ],
   "source": [
    "ispi <- unlist(is.ALL(pi))\n",
    "all(ispi[is0.ok] == is0)"
   ]
  },
  {
   "cell_type": "code",
   "execution_count": 20,
   "metadata": {},
   "outputs": [
    {
     "data": {
      "text/html": [
       "<ol class=list-inline>\n",
       "\t<li>'is.atomic'</li>\n",
       "\t<li>'is.double'</li>\n",
       "\t<li>'is.numeric'</li>\n",
       "\t<li>'is.vector'</li>\n",
       "</ol>\n"
      ],
      "text/latex": [
       "\\begin{enumerate*}\n",
       "\\item 'is.atomic'\n",
       "\\item 'is.double'\n",
       "\\item 'is.numeric'\n",
       "\\item 'is.vector'\n",
       "\\end{enumerate*}\n"
      ],
      "text/markdown": [
       "1. 'is.atomic'\n",
       "2. 'is.double'\n",
       "3. 'is.numeric'\n",
       "4. 'is.vector'\n",
       "\n",
       "\n"
      ],
      "text/plain": [
       "[1] \"is.atomic\"  \"is.double\"  \"is.numeric\" \"is.vector\" "
      ]
     },
     "metadata": {},
     "output_type": "display_data"
    }
   ],
   "source": [
    "is.ALL(numeric(0), true=TRUE)"
   ]
  },
  {
   "cell_type": "code",
   "execution_count": 21,
   "metadata": {},
   "outputs": [
    {
     "data": {
      "text/html": [
       "<ol class=list-inline>\n",
       "\t<li>'is.array'</li>\n",
       "\t<li>'is.atomic'</li>\n",
       "\t<li>'is.double'</li>\n",
       "\t<li>'is.numeric'</li>\n",
       "</ol>\n"
      ],
      "text/latex": [
       "\\begin{enumerate*}\n",
       "\\item 'is.array'\n",
       "\\item 'is.atomic'\n",
       "\\item 'is.double'\n",
       "\\item 'is.numeric'\n",
       "\\end{enumerate*}\n"
      ],
      "text/markdown": [
       "1. 'is.array'\n",
       "2. 'is.atomic'\n",
       "3. 'is.double'\n",
       "4. 'is.numeric'\n",
       "\n",
       "\n"
      ],
      "text/plain": [
       "[1] \"is.array\"   \"is.atomic\"  \"is.double\"  \"is.numeric\""
      ]
     },
     "metadata": {},
     "output_type": "display_data"
    }
   ],
   "source": [
    "is.ALL(array(1,1:3), true=TRUE)"
   ]
  },
  {
   "cell_type": "code",
   "execution_count": 22,
   "metadata": {},
   "outputs": [
    {
     "data": {
      "text/html": [
       "<ol class=list-inline>\n",
       "\t<li>'is.array'</li>\n",
       "\t<li>'is.atomic'</li>\n",
       "\t<li>'is.integer'</li>\n",
       "\t<li>'is.matrix'</li>\n",
       "\t<li>'is.numeric'</li>\n",
       "</ol>\n"
      ],
      "text/latex": [
       "\\begin{enumerate*}\n",
       "\\item 'is.array'\n",
       "\\item 'is.atomic'\n",
       "\\item 'is.integer'\n",
       "\\item 'is.matrix'\n",
       "\\item 'is.numeric'\n",
       "\\end{enumerate*}\n"
      ],
      "text/markdown": [
       "1. 'is.array'\n",
       "2. 'is.atomic'\n",
       "3. 'is.integer'\n",
       "4. 'is.matrix'\n",
       "5. 'is.numeric'\n",
       "\n",
       "\n"
      ],
      "text/plain": [
       "[1] \"is.array\"   \"is.atomic\"  \"is.integer\" \"is.matrix\"  \"is.numeric\""
      ]
     },
     "metadata": {},
     "output_type": "display_data"
    }
   ],
   "source": [
    "is.ALL(cbind(1:3), true=TRUE)"
   ]
  },
  {
   "cell_type": "code",
   "execution_count": 23,
   "metadata": {},
   "outputs": [
    {
     "data": {
      "text/plain": [
       "is.array           : . \n",
       "is.atomic          : | \n",
       "is.call            : . \n",
       "is.character       : . \n",
       "is.complex         : . \n",
       "is.data.frame      : . \n",
       "is.double          : . \n",
       "is.environment     : . \n",
       "is.expression      : . \n",
       "is.factor          : . \n",
       "is.finite          : | | | | | | | \n",
       "is.function        : . \n",
       "is.infinite        : . . . . . . . \n",
       "is.integer         : | \n",
       "is.language        : . \n",
       "is.list            : . \n",
       "is.logical         : . \n",
       "is.matrix          : . \n",
       "is.na              : . . . . . . . \n",
       "is.name            : . \n",
       "is.nan             : . . . . . . . \n",
       "is.null            : . \n",
       "is.numeric         : | \n",
       "is.numeric_version : . \n",
       "is.object          : . \n",
       "is.ordered         : . \n",
       "is.package_version : . \n",
       "is.pairlist        : . \n",
       "is.primitive       : . \n",
       "is.qr              : . \n",
       "is.raw             : . \n",
       "is.recursive       : . \n",
       "is.symbol          : . \n",
       "is.table           : . \n",
       "is.vector          : | "
      ]
     },
     "metadata": {},
     "output_type": "display_data"
    }
   ],
   "source": [
    "is.ALL(structure(1:7, names = paste(\"a\",1:7,sep=\"\")))"
   ]
  },
  {
   "cell_type": "code",
   "execution_count": 24,
   "metadata": {},
   "outputs": [
    {
     "data": {
      "text/html": [
       "<ol class=list-inline>\n",
       "\t<li>'is.atomic'</li>\n",
       "\t<li>'is.integer'</li>\n",
       "\t<li>'is.numeric'</li>\n",
       "\t<li>'is.vector'</li>\n",
       "</ol>\n"
      ],
      "text/latex": [
       "\\begin{enumerate*}\n",
       "\\item 'is.atomic'\n",
       "\\item 'is.integer'\n",
       "\\item 'is.numeric'\n",
       "\\item 'is.vector'\n",
       "\\end{enumerate*}\n"
      ],
      "text/markdown": [
       "1. 'is.atomic'\n",
       "2. 'is.integer'\n",
       "3. 'is.numeric'\n",
       "4. 'is.vector'\n",
       "\n",
       "\n"
      ],
      "text/plain": [
       "[1] \"is.atomic\"  \"is.integer\" \"is.numeric\" \"is.vector\" "
      ]
     },
     "metadata": {},
     "output_type": "display_data"
    }
   ],
   "source": [
    "is.ALL(structure(1:7, names = paste(\"a\",1:7,sep=\"\")), true.only = TRUE)"
   ]
  },
  {
   "cell_type": "code",
   "execution_count": 25,
   "metadata": {},
   "outputs": [
    {
     "data": {
      "text/plain": [
       "is.array           : . \n",
       "is.atomic          : . \n",
       "is.call            : . \n",
       "is.character       : . \n",
       "is.complex         : . \n",
       "is.data.frame      : . \n",
       "is.double          : . \n",
       "is.environment     : . \n",
       "is.expression      : . \n",
       "is.factor          : . \n",
       "is.finite          : NA \n",
       "is.function        : . \n",
       "is.infinite        : NA \n",
       "is.integer         : . \n",
       "is.language        : . \n",
       "is.list            : | \n",
       "is.logical         : . \n",
       "is.matrix          : . \n",
       "is.na              : . . . . . . . . . . . . \n",
       "is.name            : . \n",
       "is.nan             : NA \n",
       "is.null            : . \n",
       "is.numeric         : . \n",
       "is.numeric_version : . \n",
       "is.object          : | \n",
       "is.ordered         : . \n",
       "is.package_version : . \n",
       "is.pairlist        : . \n",
       "is.primitive       : . \n",
       "is.qr              : . \n",
       "is.raw             : . \n",
       "is.recursive       : | \n",
       "is.symbol          : . \n",
       "is.table           : . \n",
       "is.vector          : . "
      ]
     },
     "metadata": {},
     "output_type": "display_data"
    }
   ],
   "source": [
    "x <- 1:20 ; y <- 5 + 6*x + rnorm(20)\n",
    "lm.xy <- lm(y ~ x)\n",
    "is.ALL(lm.xy)"
   ]
  },
  {
   "cell_type": "code",
   "execution_count": 26,
   "metadata": {},
   "outputs": [
    {
     "data": {
      "text/plain": [
       "is.array           : . \n",
       "is.atomic          : | \n",
       "is.call            : . \n",
       "is.character       : . \n",
       "is.complex         : . \n",
       "is.data.frame      : . \n",
       "is.double          : . \n",
       "is.environment     : . \n",
       "is.expression      : . \n",
       "is.factor          : . \n",
       "is.finite          : | | | | | | | \n",
       "is.function        : . \n",
       "is.infinite        : . . . . . . . \n",
       "is.integer         : | \n",
       "is.language        : . \n",
       "is.list            : . \n",
       "is.logical         : . \n",
       "is.matrix          : . \n",
       "is.na              : . . . . . . . \n",
       "is.name            : . \n",
       "is.nan             : . . . . . . . \n",
       "is.null            : . \n",
       "is.numeric         : | \n",
       "is.numeric_version : . \n",
       "is.object          : . \n",
       "is.ordered         : . \n",
       "is.package_version : . \n",
       "is.pairlist        : . \n",
       "is.primitive       : . \n",
       "is.qr              : . \n",
       "is.raw             : . \n",
       "is.recursive       : . \n",
       "is.symbol          : . \n",
       "is.table           : . \n",
       "is.vector          : | "
      ]
     },
     "metadata": {},
     "output_type": "display_data"
    }
   ],
   "source": [
    "is.ALL(structure(1:7, names = paste(\"a\",1:7,sep=\"\")))"
   ]
  },
  {
   "cell_type": "code",
   "execution_count": 27,
   "metadata": {},
   "outputs": [
    {
     "data": {
      "text/html": [
       "<ol class=list-inline>\n",
       "\t<li>'is.atomic'</li>\n",
       "\t<li>'is.integer'</li>\n",
       "\t<li>'is.numeric'</li>\n",
       "\t<li>'is.vector'</li>\n",
       "</ol>\n"
      ],
      "text/latex": [
       "\\begin{enumerate*}\n",
       "\\item 'is.atomic'\n",
       "\\item 'is.integer'\n",
       "\\item 'is.numeric'\n",
       "\\item 'is.vector'\n",
       "\\end{enumerate*}\n"
      ],
      "text/markdown": [
       "1. 'is.atomic'\n",
       "2. 'is.integer'\n",
       "3. 'is.numeric'\n",
       "4. 'is.vector'\n",
       "\n",
       "\n"
      ],
      "text/plain": [
       "[1] \"is.atomic\"  \"is.integer\" \"is.numeric\" \"is.vector\" "
      ]
     },
     "metadata": {},
     "output_type": "display_data"
    }
   ],
   "source": [
    "is.ALL(structure(1:7, names = paste(\"a\",1:7,sep=\"\")), true.only = TRUE)"
   ]
  }
 ],
 "metadata": {
  "kernelspec": {
   "display_name": "R",
   "language": "R",
   "name": "ir"
  },
  "language_info": {
   "codemirror_mode": "r",
   "file_extension": ".r",
   "mimetype": "text/x-r-source",
   "name": "R",
   "pygments_lexer": "r",
   "version": "3.4.3"
  }
 },
 "nbformat": 4,
 "nbformat_minor": 2
}
